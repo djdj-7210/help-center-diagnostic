{
 "cells": [
  {
   "cell_type": "code",
   "execution_count": 92,
   "id": "c35487a9",
   "metadata": {},
   "outputs": [
    {
     "name": "stdout",
     "output_type": "stream",
     "text": [
      "Setup Complete\n"
     ]
    }
   ],
   "source": [
    "# Copyright (c) 2023, Neos Wave\n",
    "# All rights reserved.\n",
    "# Written by David Jacobs\n",
    "\n",
    "import pandas as pd\n",
    "import numpy as np\n",
    "import matplotlib.pyplot as plt\n",
    "%matplotlib inline\n",
    "import seaborn as sns\n",
    "import numpy as np\n",
    "import warnings\n",
    "warnings.filterwarnings(\"ignore\")\n",
    "import math\n",
    "import textstat as txtst\n",
    "print(\"Setup Complete\")"
   ]
  },
  {
   "cell_type": "markdown",
   "id": "cbdd50cc",
   "metadata": {},
   "source": [
    "# Preprocessing"
   ]
  },
  {
   "cell_type": "markdown",
   "id": "bffacdf2",
   "metadata": {},
   "source": [
    "### Loading file & Setting up first df (Needs the filepath of the scrape changed between quotations)\n",
    "\n",
    "For the filepath change \\ --> / and remember to add \".csv\" at the end."
   ]
  },
  {
   "cell_type": "markdown",
   "id": "f8de0925",
   "metadata": {},
   "source": [
    "Headers needed for Scrape to work:\n",
    "\n",
    "['Breadcrumbs', 'Article Title', 'Article Text']"
   ]
  },
  {
   "cell_type": "code",
   "execution_count": 93,
   "id": "5ed8f995",
   "metadata": {},
   "outputs": [
    {
     "name": "stdout",
     "output_type": "stream",
     "text": [
      "Filepath of the scrape\n",
      "[FILEPATH]\n"
     ]
    }
   ],
   "source": [
    "filepath = input('Filepath of the scrape\\n')\n",
    "\n",
    "df = pd.read_csv(filepath)"
   ]
  },
  {
   "cell_type": "markdown",
   "id": "6a814be6",
   "metadata": {},
   "source": [
    "### Adding Who's KB is this? (Needs input at prompt)"
   ]
  },
  {
   "cell_type": "code",
   "execution_count": 94,
   "id": "39a5a6df",
   "metadata": {},
   "outputs": [
    {
     "name": "stdout",
     "output_type": "stream",
     "text": [
      "Who's KB is this?\n",
      "The Black Tux\n"
     ]
    }
   ],
   "source": [
    "print('Who\\'s KB is this?')\n",
    "client = input()"
   ]
  },
  {
   "cell_type": "markdown",
   "id": "9ba9d842",
   "metadata": {},
   "source": [
    "### Splitting the Breadcrumbs into KB Name, Category, Subcategory"
   ]
  },
  {
   "cell_type": "code",
   "execution_count": 95,
   "id": "c71f1208",
   "metadata": {},
   "outputs": [],
   "source": [
    "def split_breadcrumbs(row):\n",
    "    bread_list = row['Breadcrumbs'].split('|')\n",
    "    row['KB Name'] = bread_list[0]\n",
    "    if len(bread_list) >= 3:\n",
    "        row['Category'] = bread_list[1]\n",
    "        row['Subcategory'] = bread_list[2]\n",
    "    elif len(bread_list) == 2:\n",
    "        row['Category'] = bread_list[1]\n",
    "        row['Subcategory'] = 'None'\n",
    "    elif len(bread_list) == 1:\n",
    "        row['Category'] = 'None'\n",
    "        row['Subcategory'] = 'None'\n",
    "    return row\n",
    "\n",
    "df = df.apply(split_breadcrumbs, axis=1)"
   ]
  },
  {
   "cell_type": "markdown",
   "id": "24355cbc",
   "metadata": {},
   "source": [
    "### Cleaning up the Subcategory"
   ]
  },
  {
   "cell_type": "code",
   "execution_count": 96,
   "id": "181e3922",
   "metadata": {},
   "outputs": [],
   "source": [
    "def clean_subcat(row):\n",
    "    if row['Subcategory'] == row['Article Title']:\n",
    "        row['Subcategory'] = 'None'\n",
    "        return row\n",
    "    else:\n",
    "        return row\n",
    "\n",
    "df = df.apply(clean_subcat, axis=1)"
   ]
  },
  {
   "cell_type": "markdown",
   "id": "078e750e",
   "metadata": {},
   "source": [
    "### Adding a Category Index"
   ]
  },
  {
   "cell_type": "code",
   "execution_count": 97,
   "id": "7e15e3b0",
   "metadata": {},
   "outputs": [],
   "source": [
    "categories = list(df['Subcategory'].unique())\n",
    "# For the Black Tux the brand used subcategories as their categories. \n",
    "\n",
    "df['Category Index'] = df['Subcategory'].map(lambda cat: categories.index(cat))"
   ]
  },
  {
   "cell_type": "code",
   "execution_count": 98,
   "id": "3c8ac8ac",
   "metadata": {},
   "outputs": [],
   "source": [
    "df = df[['KB Name', 'Category Index', 'Category', 'Subcategory', 'Article Title', 'Article Text']]"
   ]
  },
  {
   "cell_type": "markdown",
   "id": "2b4db0d3",
   "metadata": {},
   "source": [
    "### Filling in NA"
   ]
  },
  {
   "cell_type": "code",
   "execution_count": 99,
   "id": "90554726",
   "metadata": {},
   "outputs": [],
   "source": [
    "df = df.fillna(' ')"
   ]
  },
  {
   "cell_type": "markdown",
   "id": "d64a4dbf",
   "metadata": {},
   "source": [
    "### Combining Article Title & Text to get full Article Copy"
   ]
  },
  {
   "cell_type": "code",
   "execution_count": 100,
   "id": "0c70a805",
   "metadata": {},
   "outputs": [],
   "source": [
    "def combine_text(row):\n",
    "    row['Article Copy'] = str(row['Article Title']) + ' ' + str(row['Article Text'])\n",
    "    return row\n",
    "\n",
    "df2 = df.apply(combine_text, axis='columns')"
   ]
  },
  {
   "cell_type": "markdown",
   "id": "b21bc95b",
   "metadata": {},
   "source": [
    "### Creating the Average Time to Read (ATR in seconds)"
   ]
  },
  {
   "cell_type": "code",
   "execution_count": 101,
   "id": "a439a52e",
   "metadata": {},
   "outputs": [],
   "source": [
    "df2['ATR'] = df2['Article Copy'].map(lambda text: txtst.lexicon_count(text, removepunct=True) / 200)"
   ]
  },
  {
   "cell_type": "code",
   "execution_count": 102,
   "id": "5ad3ea9c",
   "metadata": {},
   "outputs": [
    {
     "data": {
      "text/html": [
       "<div>\n",
       "<style scoped>\n",
       "    .dataframe tbody tr th:only-of-type {\n",
       "        vertical-align: middle;\n",
       "    }\n",
       "\n",
       "    .dataframe tbody tr th {\n",
       "        vertical-align: top;\n",
       "    }\n",
       "\n",
       "    .dataframe thead th {\n",
       "        text-align: right;\n",
       "    }\n",
       "</style>\n",
       "<table border=\"1\" class=\"dataframe\">\n",
       "  <thead>\n",
       "    <tr style=\"text-align: right;\">\n",
       "      <th></th>\n",
       "      <th>len</th>\n",
       "      <th>min</th>\n",
       "      <th>max</th>\n",
       "      <th>mean</th>\n",
       "    </tr>\n",
       "    <tr>\n",
       "      <th>Subcategory</th>\n",
       "      <th></th>\n",
       "      <th></th>\n",
       "      <th></th>\n",
       "      <th></th>\n",
       "    </tr>\n",
       "  </thead>\n",
       "  <tbody>\n",
       "    <tr>\n",
       "      <th>Wedding Parties</th>\n",
       "      <td>16</td>\n",
       "      <td>0.200</td>\n",
       "      <td>2.460</td>\n",
       "      <td>0.765938</td>\n",
       "    </tr>\n",
       "    <tr>\n",
       "      <th>Order Changes</th>\n",
       "      <td>6</td>\n",
       "      <td>0.285</td>\n",
       "      <td>1.325</td>\n",
       "      <td>0.681667</td>\n",
       "    </tr>\n",
       "    <tr>\n",
       "      <th>Returns &amp; Cancellations</th>\n",
       "      <td>10</td>\n",
       "      <td>0.180</td>\n",
       "      <td>1.220</td>\n",
       "      <td>0.653500</td>\n",
       "    </tr>\n",
       "    <tr>\n",
       "      <th>In-Person Fitting</th>\n",
       "      <td>16</td>\n",
       "      <td>0.170</td>\n",
       "      <td>1.840</td>\n",
       "      <td>0.636563</td>\n",
       "    </tr>\n",
       "    <tr>\n",
       "      <th>Shipping</th>\n",
       "      <td>10</td>\n",
       "      <td>0.215</td>\n",
       "      <td>1.005</td>\n",
       "      <td>0.565500</td>\n",
       "    </tr>\n",
       "    <tr>\n",
       "      <th>How It Works</th>\n",
       "      <td>27</td>\n",
       "      <td>0.110</td>\n",
       "      <td>2.125</td>\n",
       "      <td>0.554630</td>\n",
       "    </tr>\n",
       "    <tr>\n",
       "      <th>David's Bridal</th>\n",
       "      <td>7</td>\n",
       "      <td>0.150</td>\n",
       "      <td>1.280</td>\n",
       "      <td>0.526429</td>\n",
       "    </tr>\n",
       "    <tr>\n",
       "      <th>Payments &amp; Discounts</th>\n",
       "      <td>14</td>\n",
       "      <td>0.075</td>\n",
       "      <td>0.865</td>\n",
       "      <td>0.364286</td>\n",
       "    </tr>\n",
       "    <tr>\n",
       "      <th>Marke NYC</th>\n",
       "      <td>12</td>\n",
       "      <td>0.125</td>\n",
       "      <td>0.560</td>\n",
       "      <td>0.360417</td>\n",
       "    </tr>\n",
       "    <tr>\n",
       "      <th>Style, Fit, &amp; Measurements</th>\n",
       "      <td>21</td>\n",
       "      <td>0.145</td>\n",
       "      <td>0.710</td>\n",
       "      <td>0.308571</td>\n",
       "    </tr>\n",
       "  </tbody>\n",
       "</table>\n",
       "</div>"
      ],
      "text/plain": [
       "                            len    min    max      mean\n",
       "Subcategory                                            \n",
       "Wedding Parties              16  0.200  2.460  0.765938\n",
       "Order Changes                 6  0.285  1.325  0.681667\n",
       "Returns & Cancellations      10  0.180  1.220  0.653500\n",
       "In-Person Fitting            16  0.170  1.840  0.636563\n",
       "Shipping                     10  0.215  1.005  0.565500\n",
       "How It Works                 27  0.110  2.125  0.554630\n",
       "David's Bridal                7  0.150  1.280  0.526429\n",
       "Payments & Discounts         14  0.075  0.865  0.364286\n",
       "Marke NYC                    12  0.125  0.560  0.360417\n",
       "Style, Fit, & Measurements   21  0.145  0.710  0.308571"
      ]
     },
     "execution_count": 102,
     "metadata": {},
     "output_type": "execute_result"
    }
   ],
   "source": [
    "df2.groupby('Subcategory')['ATR'].agg([len, min, max, np.mean]).sort_values(by='mean', ascending=False)"
   ]
  },
  {
   "cell_type": "code",
   "execution_count": 103,
   "id": "fc22f1a4",
   "metadata": {},
   "outputs": [
    {
     "data": {
      "image/png": "[encoded data removed]",
      "text/plain": [
       "<Figure size 1368x720 with 1 Axes>"
      ]
     },
     "metadata": {
      "needs_background": "light"
     },
     "output_type": "display_data"
    }
   ],
   "source": [
    "atr_mins = str(int(np.mean(df2['ATR'])))\n",
    "\n",
    "atr_secs = str(math.floor(round((np.mean(df2['ATR']) - math.floor(np.mean(df2['ATR']))) * 60, 0)))\n",
    "\n",
    "plt.figure(figsize=(19,10))\n",
    "\n",
    "ax = sns.histplot(data=df2, x='ATR', hue='Subcategory', multiple='stack', palette='tab10')\n",
    "\n",
    "if atr_mins == str(1):\n",
    "    ax.set_title(f\"Average time to read {client} articles - {atr_mins} min {atr_secs} secs\", fontsize=20)\n",
    "elif atr_mins == str(0):\n",
    "    ax.set_title(f\"Average time to read {client} articles - {atr_secs} secs\", fontsize=20)\n",
    "elif atr_mins != str(1):\n",
    "    ax.set_title(f\"Average time to read {client} articles - {atr_mins} mins {atr_secs} secs\", fontsize=20)\n",
    "\n",
    "plt.xlabel(\"Time (m)\", fontsize=15)\n",
    "\n",
    "plt.ylabel(\"Articles\", fontsize=15)\n",
    "\n",
    "sns.despine()\n",
    "\n",
    "plt.show()"
   ]
  },
  {
   "cell_type": "code",
   "execution_count": 104,
   "id": "270bbc1b",
   "metadata": {},
   "outputs": [
    {
     "data": {
      "image/png": "[encoded data removed]",
      "text/plain": [
       "<Figure size 1368x720 with 1 Axes>"
      ]
     },
     "metadata": {
      "needs_background": "light"
     },
     "output_type": "display_data"
    }
   ],
   "source": [
    "plt.figure(figsize=(19,10))\n",
    "\n",
    "ax = sns.barplot(data=df2, x='Subcategory', y='ATR', palette='tab10', edgecolor='black', linewidth=0.5)\n",
    "\n",
    "ax.set_title('Average time to read by Category', fontsize=20)\n",
    "\n",
    "ax.set_xticklabels(ax.get_xticklabels(), rotation=40, ha=\"right\")\n",
    "\n",
    "plt.xlabel('Category', fontsize=15)\n",
    "\n",
    "plt.ylabel('Time (m)', fontsize=15)\n",
    "\n",
    "sns.despine()\n",
    "\n",
    "plt.show()"
   ]
  },
  {
   "cell_type": "markdown",
   "id": "b9a6c27c",
   "metadata": {},
   "source": [
    "### Adding Words per Article"
   ]
  },
  {
   "cell_type": "code",
   "execution_count": 105,
   "id": "e18278c1",
   "metadata": {},
   "outputs": [],
   "source": [
    "df2['Word Count'] = df2['Article Copy'].map(lambda text: txtst.lexicon_count(text, removepunct=True))"
   ]
  },
  {
   "cell_type": "markdown",
   "id": "c993708a",
   "metadata": {},
   "source": [
    "### Reading Ease - Flesch Reading Ease (% out of 100)"
   ]
  },
  {
   "cell_type": "code",
   "execution_count": 106,
   "id": "897e644c",
   "metadata": {},
   "outputs": [],
   "source": [
    "df2['Reading Ease'] = df2['Article Copy'].map(lambda text: txtst.flesch_reading_ease(text))"
   ]
  },
  {
   "cell_type": "code",
   "execution_count": 107,
   "id": "25c971d7",
   "metadata": {},
   "outputs": [
    {
     "data": {
      "text/html": [
       "<div>\n",
       "<style scoped>\n",
       "    .dataframe tbody tr th:only-of-type {\n",
       "        vertical-align: middle;\n",
       "    }\n",
       "\n",
       "    .dataframe tbody tr th {\n",
       "        vertical-align: top;\n",
       "    }\n",
       "\n",
       "    .dataframe thead th {\n",
       "        text-align: right;\n",
       "    }\n",
       "</style>\n",
       "<table border=\"1\" class=\"dataframe\">\n",
       "  <thead>\n",
       "    <tr style=\"text-align: right;\">\n",
       "      <th></th>\n",
       "      <th>len</th>\n",
       "      <th>min</th>\n",
       "      <th>max</th>\n",
       "      <th>mean</th>\n",
       "    </tr>\n",
       "    <tr>\n",
       "      <th>Subcategory</th>\n",
       "      <th></th>\n",
       "      <th></th>\n",
       "      <th></th>\n",
       "      <th></th>\n",
       "    </tr>\n",
       "  </thead>\n",
       "  <tbody>\n",
       "    <tr>\n",
       "      <th>Order Changes</th>\n",
       "      <td>6</td>\n",
       "      <td>73.88</td>\n",
       "      <td>88.74</td>\n",
       "      <td>80.813333</td>\n",
       "    </tr>\n",
       "    <tr>\n",
       "      <th>Style, Fit, &amp; Measurements</th>\n",
       "      <td>21</td>\n",
       "      <td>60.95</td>\n",
       "      <td>95.47</td>\n",
       "      <td>80.306190</td>\n",
       "    </tr>\n",
       "    <tr>\n",
       "      <th>Shipping</th>\n",
       "      <td>10</td>\n",
       "      <td>56.76</td>\n",
       "      <td>99.26</td>\n",
       "      <td>77.786000</td>\n",
       "    </tr>\n",
       "    <tr>\n",
       "      <th>Returns &amp; Cancellations</th>\n",
       "      <td>10</td>\n",
       "      <td>65.52</td>\n",
       "      <td>90.29</td>\n",
       "      <td>77.111000</td>\n",
       "    </tr>\n",
       "    <tr>\n",
       "      <th>How It Works</th>\n",
       "      <td>27</td>\n",
       "      <td>55.24</td>\n",
       "      <td>90.09</td>\n",
       "      <td>77.092222</td>\n",
       "    </tr>\n",
       "    <tr>\n",
       "      <th>Marke NYC</th>\n",
       "      <td>12</td>\n",
       "      <td>58.32</td>\n",
       "      <td>85.49</td>\n",
       "      <td>72.775833</td>\n",
       "    </tr>\n",
       "    <tr>\n",
       "      <th>Wedding Parties</th>\n",
       "      <td>16</td>\n",
       "      <td>46.61</td>\n",
       "      <td>82.65</td>\n",
       "      <td>70.125625</td>\n",
       "    </tr>\n",
       "    <tr>\n",
       "      <th>Payments &amp; Discounts</th>\n",
       "      <td>14</td>\n",
       "      <td>41.06</td>\n",
       "      <td>82.24</td>\n",
       "      <td>69.213571</td>\n",
       "    </tr>\n",
       "    <tr>\n",
       "      <th>In-Person Fitting</th>\n",
       "      <td>16</td>\n",
       "      <td>51.78</td>\n",
       "      <td>85.39</td>\n",
       "      <td>66.387500</td>\n",
       "    </tr>\n",
       "    <tr>\n",
       "      <th>David's Bridal</th>\n",
       "      <td>7</td>\n",
       "      <td>42.75</td>\n",
       "      <td>82.85</td>\n",
       "      <td>63.971429</td>\n",
       "    </tr>\n",
       "  </tbody>\n",
       "</table>\n",
       "</div>"
      ],
      "text/plain": [
       "                            len    min    max       mean\n",
       "Subcategory                                             \n",
       "Order Changes                 6  73.88  88.74  80.813333\n",
       "Style, Fit, & Measurements   21  60.95  95.47  80.306190\n",
       "Shipping                     10  56.76  99.26  77.786000\n",
       "Returns & Cancellations      10  65.52  90.29  77.111000\n",
       "How It Works                 27  55.24  90.09  77.092222\n",
       "Marke NYC                    12  58.32  85.49  72.775833\n",
       "Wedding Parties              16  46.61  82.65  70.125625\n",
       "Payments & Discounts         14  41.06  82.24  69.213571\n",
       "In-Person Fitting            16  51.78  85.39  66.387500\n",
       "David's Bridal                7  42.75  82.85  63.971429"
      ]
     },
     "execution_count": 107,
     "metadata": {},
     "output_type": "execute_result"
    }
   ],
   "source": [
    "df2.groupby('Subcategory')['Reading Ease'].agg([len, min, max, np.mean]).sort_values(by='mean', ascending=False)"
   ]
  },
  {
   "cell_type": "code",
   "execution_count": 113,
   "id": "bfdba1b3",
   "metadata": {},
   "outputs": [
    {
     "data": {
      "image/png": "[encoded data removed]",
      "text/plain": [
       "<Figure size 1368x720 with 1 Axes>"
      ]
     },
     "metadata": {
      "needs_background": "light"
     },
     "output_type": "display_data"
    }
   ],
   "source": [
    "plt.figure(figsize=(19,10))\n",
    "\n",
    "ax = sns.boxenplot(data=df2, x='Subcategory', y='Reading Ease', palette='tab10')\n",
    "\n",
    "ax.set_title('Flesch Reading Ease (higher is better)\\nWith Article Title Outliers', fontsize=20, pad=50)\n",
    "\n",
    "ax.set_xticklabels(ax.get_xticklabels(), rotation=40, ha=\"right\")\n",
    "\n",
    "plt.xlabel(\"Category\", fontsize=15)\n",
    "\n",
    "plt.ylabel(\"Reading Ease\", fontsize=15)\n",
    "\n",
    "cat_q1 = df2.groupby('Category Index').quantile(0.25)['Reading Ease'].to_numpy()\n",
    "cat_q3 = df2.groupby('Category Index').quantile(0.75)['Reading Ease'].to_numpy()\n",
    "outlier_top_lim = cat_q3 + 1.5 * (cat_q3 - cat_q1)\n",
    "outlier_bottom_lim = cat_q1 - 1.5 * (cat_q3 - cat_q1)\n",
    "\n",
    "for row in df2.itertuples():\n",
    "    cat_index = row[2]\n",
    "    title = row[5]\n",
    "    val = row[10]\n",
    "    if val > outlier_top_lim[cat_index] or val < outlier_bottom_lim[cat_index]:\n",
    "        plt.text(cat_index, val, f'  {title} - {round(val)}%', ha = 'left', va = 'center', \n",
    "                 size = 'large', weight = 'roman', rotation=0)\n",
    "        \n",
    "sns.despine()\n",
    "\n",
    "plt.show()"
   ]
  },
  {
   "cell_type": "markdown",
   "id": "1e53b444",
   "metadata": {},
   "source": [
    "### Difficult Words % - Difficult Words (words with 3 or more syllables) / Total # of Words"
   ]
  },
  {
   "cell_type": "code",
   "execution_count": 110,
   "id": "dcfe53d6",
   "metadata": {},
   "outputs": [],
   "source": [
    "def difficult_words(row):\n",
    "    row['Difficult Words (%)'] = round(100 * txtst.difficult_words(row['Article Copy']) / row['Word Count'], 2)\n",
    "    return row\n",
    "\n",
    "df2 = df2.apply(difficult_words, axis='columns')"
   ]
  },
  {
   "cell_type": "code",
   "execution_count": 111,
   "id": "997c9259",
   "metadata": {},
   "outputs": [
    {
     "data": {
      "text/html": [
       "<div>\n",
       "<style scoped>\n",
       "    .dataframe tbody tr th:only-of-type {\n",
       "        vertical-align: middle;\n",
       "    }\n",
       "\n",
       "    .dataframe tbody tr th {\n",
       "        vertical-align: top;\n",
       "    }\n",
       "\n",
       "    .dataframe thead th {\n",
       "        text-align: right;\n",
       "    }\n",
       "</style>\n",
       "<table border=\"1\" class=\"dataframe\">\n",
       "  <thead>\n",
       "    <tr style=\"text-align: right;\">\n",
       "      <th></th>\n",
       "      <th>len</th>\n",
       "      <th>min</th>\n",
       "      <th>max</th>\n",
       "      <th>mean</th>\n",
       "    </tr>\n",
       "    <tr>\n",
       "      <th>Subcategory</th>\n",
       "      <th></th>\n",
       "      <th></th>\n",
       "      <th></th>\n",
       "      <th></th>\n",
       "    </tr>\n",
       "  </thead>\n",
       "  <tbody>\n",
       "    <tr>\n",
       "      <th>Payments &amp; Discounts</th>\n",
       "      <td>14</td>\n",
       "      <td>13.64</td>\n",
       "      <td>35.85</td>\n",
       "      <td>20.066429</td>\n",
       "    </tr>\n",
       "    <tr>\n",
       "      <th>In-Person Fitting</th>\n",
       "      <td>16</td>\n",
       "      <td>8.57</td>\n",
       "      <td>22.89</td>\n",
       "      <td>17.116250</td>\n",
       "    </tr>\n",
       "    <tr>\n",
       "      <th>David's Bridal</th>\n",
       "      <td>7</td>\n",
       "      <td>10.00</td>\n",
       "      <td>23.08</td>\n",
       "      <td>16.008571</td>\n",
       "    </tr>\n",
       "    <tr>\n",
       "      <th>Marke NYC</th>\n",
       "      <td>12</td>\n",
       "      <td>10.53</td>\n",
       "      <td>22.22</td>\n",
       "      <td>15.380833</td>\n",
       "    </tr>\n",
       "    <tr>\n",
       "      <th>Style, Fit, &amp; Measurements</th>\n",
       "      <td>21</td>\n",
       "      <td>5.88</td>\n",
       "      <td>22.54</td>\n",
       "      <td>14.511905</td>\n",
       "    </tr>\n",
       "    <tr>\n",
       "      <th>Wedding Parties</th>\n",
       "      <td>16</td>\n",
       "      <td>10.00</td>\n",
       "      <td>20.33</td>\n",
       "      <td>14.175000</td>\n",
       "    </tr>\n",
       "    <tr>\n",
       "      <th>Shipping</th>\n",
       "      <td>10</td>\n",
       "      <td>4.65</td>\n",
       "      <td>29.31</td>\n",
       "      <td>13.827000</td>\n",
       "    </tr>\n",
       "    <tr>\n",
       "      <th>How It Works</th>\n",
       "      <td>27</td>\n",
       "      <td>5.00</td>\n",
       "      <td>27.12</td>\n",
       "      <td>13.587778</td>\n",
       "    </tr>\n",
       "    <tr>\n",
       "      <th>Returns &amp; Cancellations</th>\n",
       "      <td>10</td>\n",
       "      <td>8.79</td>\n",
       "      <td>17.70</td>\n",
       "      <td>13.585000</td>\n",
       "    </tr>\n",
       "    <tr>\n",
       "      <th>Order Changes</th>\n",
       "      <td>6</td>\n",
       "      <td>8.11</td>\n",
       "      <td>17.54</td>\n",
       "      <td>11.906667</td>\n",
       "    </tr>\n",
       "  </tbody>\n",
       "</table>\n",
       "</div>"
      ],
      "text/plain": [
       "                            len    min    max       mean\n",
       "Subcategory                                             \n",
       "Payments & Discounts         14  13.64  35.85  20.066429\n",
       "In-Person Fitting            16   8.57  22.89  17.116250\n",
       "David's Bridal                7  10.00  23.08  16.008571\n",
       "Marke NYC                    12  10.53  22.22  15.380833\n",
       "Style, Fit, & Measurements   21   5.88  22.54  14.511905\n",
       "Wedding Parties              16  10.00  20.33  14.175000\n",
       "Shipping                     10   4.65  29.31  13.827000\n",
       "How It Works                 27   5.00  27.12  13.587778\n",
       "Returns & Cancellations      10   8.79  17.70  13.585000\n",
       "Order Changes                 6   8.11  17.54  11.906667"
      ]
     },
     "execution_count": 111,
     "metadata": {},
     "output_type": "execute_result"
    }
   ],
   "source": [
    "df2.groupby('Subcategory')['Difficult Words (%)'].agg([len, min, max, np.mean]).sort_values(by='mean', ascending=False)"
   ]
  },
  {
   "cell_type": "markdown",
   "id": "75a10f95",
   "metadata": {},
   "source": [
    "### Syllable Count"
   ]
  },
  {
   "cell_type": "code",
   "execution_count": 18,
   "id": "b86c62a2",
   "metadata": {},
   "outputs": [],
   "source": [
    "df2['Syllable Count'] = df2['Article Copy'].map(lambda text: txtst.syllable_count(text))"
   ]
  },
  {
   "cell_type": "markdown",
   "id": "bb28dca1",
   "metadata": {},
   "source": [
    "### Sentence Count"
   ]
  },
  {
   "cell_type": "code",
   "execution_count": 19,
   "id": "5ec42ae9",
   "metadata": {},
   "outputs": [],
   "source": [
    "df2['Sentence Count'] = df2['Article Copy'].map(lambda text: txtst.sentence_count(text))"
   ]
  },
  {
   "cell_type": "markdown",
   "id": "dee5226b",
   "metadata": {},
   "source": [
    "### Adding Industry & Help Center Tech (Needs input of Industry from Hubspot)\n",
    "\n",
    "Look up the client in Hubspot and look for industry field"
   ]
  },
  {
   "cell_type": "code",
   "execution_count": 19,
   "id": "e6cd4f1e",
   "metadata": {},
   "outputs": [
    {
     "name": "stdout",
     "output_type": "stream",
     "text": [
      "Which industry is the KB from?\n",
      "Ecommerce\n"
     ]
    }
   ],
   "source": [
    "print('Which industry is the KB from?')\n",
    "industry = input()\n",
    "df2['Industry'] = industry"
   ]
  },
  {
   "cell_type": "markdown",
   "id": "55c60cf1",
   "metadata": {},
   "source": [
    "### Help Center Tech (Needs input from which type of Help Center used)\n",
    "\n",
    "Look at html in the help center to find out which one"
   ]
  },
  {
   "cell_type": "code",
   "execution_count": 20,
   "id": "e52d0f68",
   "metadata": {},
   "outputs": [
    {
     "name": "stdout",
     "output_type": "stream",
     "text": [
      "Which Help Center Tech are they using?\n",
      "-Intercom\n",
      "-Zendesk\n",
      "-Hubspot\n",
      "-Salesforce\n",
      "-Kustomer\n",
      "-Zoho\n",
      "-Freshdesk\n",
      "-Gorgias\n",
      "-No CS Platform\n",
      "Zendesk\n"
     ]
    }
   ],
   "source": [
    "print('Which Help Center Tech are they using?\\n-Intercom\\n-Zendesk\\n-Hubspot\\n-Salesforce\\n-Kustomer\\n-Zoho\\n-Freshdesk\\n-Gorgias\\n-No CS Platform')\n",
    "tech = input()\n",
    "df2['Help Center Tech'] = tech"
   ]
  },
  {
   "cell_type": "markdown",
   "id": "0f2a1b99",
   "metadata": {},
   "source": [
    "# Exporting to Local, Google Drive & Slides"
   ]
  },
  {
   "cell_type": "markdown",
   "id": "27d1a8f4",
   "metadata": {},
   "source": [
    "### Local save"
   ]
  },
  {
   "cell_type": "code",
   "execution_count": 21,
   "id": "6a0a7d5d",
   "metadata": {},
   "outputs": [],
   "source": [
    "df2.to_csv(f'{client} Data Saved Down.csv', index=False, encoding = 'utf-8-sig')"
   ]
  },
  {
   "cell_type": "code",
   "execution_count": 22,
   "id": "aa32cbc5",
   "metadata": {},
   "outputs": [],
   "source": [
    "import gspread\n",
    "\n",
    "service_file = [INSERT JSON FILEPATH]"
   ]
  },
  {
   "cell_type": "markdown",
   "id": "a4cadec1",
   "metadata": {},
   "source": [
    "### Adding to Slides Template Sheet"
   ]
  },
  {
   "cell_type": "code",
   "execution_count": 23,
   "id": "bba43a48",
   "metadata": {},
   "outputs": [],
   "source": [
    "gc = gspread.service_account(filename=service_file)\n",
    "\n",
    "sh = gc.open(\"Template Feed to KB Slides\")"
   ]
  },
  {
   "cell_type": "code",
   "execution_count": 24,
   "id": "ba766c42",
   "metadata": {},
   "outputs": [
    {
     "data": {
      "text/plain": [
       "{'spreadsheetId': '1rjpp9TjdpRUSbhWayHLCLiZO2kSk4SBuBN5Yj0TJLQw',\n",
       " 'updatedRange': 'Data!A1:O25',\n",
       " 'updatedRows': 25,\n",
       " 'updatedColumns': 15,\n",
       " 'updatedCells': 375}"
      ]
     },
     "execution_count": 24,
     "metadata": {},
     "output_type": "execute_result"
    }
   ],
   "source": [
    "worksheet = sh.worksheet(\"Data\")\n",
    "\n",
    "worksheet.clear()\n",
    "\n",
    "worksheet.update([df2.columns.values.tolist()] + df2.values.tolist())"
   ]
  },
  {
   "cell_type": "markdown",
   "id": "2d4b0416",
   "metadata": {},
   "source": [
    "### Adding df2 to Google Drive"
   ]
  },
  {
   "cell_type": "code",
   "execution_count": 25,
   "id": "620ef386",
   "metadata": {},
   "outputs": [
    {
     "data": {
      "text/plain": [
       "{'spreadsheetId': '1YLNL7RdOrt5An9cEo5wVrnk7x_3rSgPLmvjp9BIrZzU',\n",
       " 'updatedRange': 'Sheet1!A1:O25',\n",
       " 'updatedRows': 25,\n",
       " 'updatedColumns': 15,\n",
       " 'updatedCells': 375}"
      ]
     },
     "execution_count": 25,
     "metadata": {},
     "output_type": "execute_result"
    }
   ],
   "source": [
    "sh_create = gc.create(f'{client} Data Saved Down', folder_id=[INSERT FOLDER ID])\n",
    "\n",
    "worksheet_1 = sh_create.sheet1\n",
    "\n",
    "worksheet_1.update([df2.columns.values.tolist()] + df2.values.tolist())"
   ]
  }
 ],
 "metadata": {
  "kernelspec": {
   "display_name": "Python 3 (ipykernel)",
   "language": "python",
   "name": "python3"
  },
  "language_info": {
   "codemirror_mode": {
    "name": "ipython",
    "version": 3
   },
   "file_extension": ".py",
   "mimetype": "text/x-python",
   "name": "python",
   "nbconvert_exporter": "python",
   "pygments_lexer": "ipython3",
   "version": "3.9.10"
  }
 },
 "nbformat": 4,
 "nbformat_minor": 5
}
